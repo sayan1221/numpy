{
 "cells": [
  {
   "cell_type": "code",
   "execution_count": 1,
   "id": "5e7a7a91",
   "metadata": {},
   "outputs": [],
   "source": [
    "import numpy as np"
   ]
  },
  {
   "cell_type": "code",
   "execution_count": 2,
   "id": "2addbdf3",
   "metadata": {},
   "outputs": [],
   "source": [
    "ch1 = \"hi i am sayan\"\n",
    "ch2 = \"learning python numpy\""
   ]
  },
  {
   "cell_type": "code",
   "execution_count": 6,
   "id": "664aac83",
   "metadata": {},
   "outputs": [
    {
     "data": {
      "text/plain": [
       "array('hi i am sayanlearning python numpy', dtype='<U34')"
      ]
     },
     "execution_count": 6,
     "metadata": {},
     "output_type": "execute_result"
    }
   ],
   "source": [
    "np.char.add(ch1, ch2)"
   ]
  },
  {
   "cell_type": "code",
   "execution_count": 7,
   "id": "9f401441",
   "metadata": {},
   "outputs": [
    {
     "data": {
      "text/plain": [
       "array('hi i am sayan', dtype='<U13')"
      ]
     },
     "execution_count": 7,
     "metadata": {},
     "output_type": "execute_result"
    }
   ],
   "source": [
    "np.char.lower(ch1)"
   ]
  },
  {
   "cell_type": "code",
   "execution_count": 8,
   "id": "488bd621",
   "metadata": {},
   "outputs": [
    {
     "data": {
      "text/plain": [
       "array('HI I AM SAYAN', dtype='<U13')"
      ]
     },
     "execution_count": 8,
     "metadata": {},
     "output_type": "execute_result"
    }
   ],
   "source": [
    "np.char.upper(ch1)"
   ]
  },
  {
   "cell_type": "code",
   "execution_count": 9,
   "id": "3bd78e98",
   "metadata": {},
   "outputs": [
    {
     "data": {
      "text/plain": [
       "array('                   learning python numpy                    ',\n",
       "      dtype='<U60')"
      ]
     },
     "execution_count": 9,
     "metadata": {},
     "output_type": "execute_result"
    }
   ],
   "source": [
    "np.char.center(ch2, 60)"
   ]
  },
  {
   "cell_type": "code",
   "execution_count": 11,
   "id": "99c7d9f1",
   "metadata": {},
   "outputs": [
    {
     "data": {
      "text/plain": [
       "array('*******************learning python numpy********************',\n",
       "      dtype='<U60')"
      ]
     },
     "execution_count": 11,
     "metadata": {},
     "output_type": "execute_result"
    }
   ],
   "source": [
    "np.char.center(ch2, 60, fillchar=\"*\")"
   ]
  },
  {
   "cell_type": "code",
   "execution_count": 13,
   "id": "23f87d3f",
   "metadata": {},
   "outputs": [
    {
     "data": {
      "text/plain": [
       "array(list(['hi', 'i', 'am', 'sayan']), dtype=object)"
      ]
     },
     "execution_count": 13,
     "metadata": {},
     "output_type": "execute_result"
    }
   ],
   "source": [
    "np.char.split(ch1)"
   ]
  },
  {
   "cell_type": "code",
   "execution_count": 14,
   "id": "e5e1dd11",
   "metadata": {},
   "outputs": [
    {
     "data": {
      "text/plain": [
       "array(list(['hello', 'India']), dtype=object)"
      ]
     },
     "execution_count": 14,
     "metadata": {},
     "output_type": "execute_result"
    }
   ],
   "source": [
    "np.char.splitlines(\"hello\\nIndia\")"
   ]
  },
  {
   "cell_type": "code",
   "execution_count": 15,
   "id": "3a70dfb6",
   "metadata": {},
   "outputs": [],
   "source": [
    "ch3 =\"day\"\n",
    "ch4 = \"dny\"\n"
   ]
  },
  {
   "cell_type": "code",
   "execution_count": 18,
   "id": "85d82297",
   "metadata": {},
   "outputs": [
    {
     "data": {
      "text/plain": [
       "array(['d:a:y', 'd/n/y'], dtype='<U5')"
      ]
     },
     "execution_count": 18,
     "metadata": {},
     "output_type": "execute_result"
    }
   ],
   "source": [
    "np.char.join([\":\",\"/\"],[ch3,ch4])"
   ]
  },
  {
   "cell_type": "code",
   "execution_count": 19,
   "id": "8079e68a",
   "metadata": {},
   "outputs": [
    {
     "data": {
      "text/plain": [
       "array('hello i am sayan', dtype='<U16')"
      ]
     },
     "execution_count": 19,
     "metadata": {},
     "output_type": "execute_result"
    }
   ],
   "source": [
    "np.char.replace(ch1,\"hi\",\"hello\")"
   ]
  },
  {
   "cell_type": "code",
   "execution_count": 21,
   "id": "60e8ae94",
   "metadata": {},
   "outputs": [
    {
     "data": {
      "text/plain": [
       "array(False)"
      ]
     },
     "execution_count": 21,
     "metadata": {},
     "output_type": "execute_result"
    }
   ],
   "source": [
    "np.char.equal(ch3,ch4)"
   ]
  },
  {
   "cell_type": "code",
   "execution_count": 22,
   "id": "167558f4",
   "metadata": {},
   "outputs": [
    {
     "data": {
      "text/plain": [
       "array(3)"
      ]
     },
     "execution_count": 22,
     "metadata": {},
     "output_type": "execute_result"
    }
   ],
   "source": [
    "np.char.count(ch1, \"a\")"
   ]
  },
  {
   "cell_type": "code",
   "execution_count": 24,
   "id": "39a64d28",
   "metadata": {},
   "outputs": [
    {
     "data": {
      "text/plain": [
       "array(8)"
      ]
     },
     "execution_count": 24,
     "metadata": {},
     "output_type": "execute_result"
    }
   ],
   "source": [
    "np.char.find(ch1,\"sayan\")"
   ]
  },
  {
   "cell_type": "code",
   "execution_count": null,
   "id": "652d6746",
   "metadata": {},
   "outputs": [],
   "source": []
  }
 ],
 "metadata": {
  "kernelspec": {
   "display_name": "Python 3",
   "language": "python",
   "name": "python3"
  },
  "language_info": {
   "codemirror_mode": {
    "name": "ipython",
    "version": 3
   },
   "file_extension": ".py",
   "mimetype": "text/x-python",
   "name": "python",
   "nbconvert_exporter": "python",
   "pygments_lexer": "ipython3",
   "version": "3.8.8"
  }
 },
 "nbformat": 4,
 "nbformat_minor": 5
}
